{
 "cells": [
  {
   "cell_type": "code",
   "execution_count": 1,
   "id": "7b2a8630",
   "metadata": {},
   "outputs": [
    {
     "name": "stdout",
     "output_type": "stream",
     "text": [
      "Invalid Input\n"
     ]
    }
   ],
   "source": [
    "def add():\n",
    "    num1 = input(int())\n",
    "    num2 = input(int())\n",
    "    print(int(num1) + int(num2))\n",
    "\n",
    "def minus():\n",
    "    num1 = input(int())\n",
    "    num2 = input(int())\n",
    "    print(int(num1) - int(num2))\n",
    "    \n",
    "def multi():\n",
    "    num1 = input(int())\n",
    "    num2 = input(int())\n",
    "    print(int(num1) * int(num2))\n",
    "    \n",
    "def div():\n",
    "    num1 = input(int())\n",
    "    num2 = input(int())\n",
    "    print(int(num1) / int(num2))\n",
    "    \n",
    "    \n",
    "print(\"Select operation.\")\n",
    "print(\"1.Add\")\n",
    "print(\"2.Subtract\")\n",
    "print(\"3.Multiply\")\n",
    "print(\"4.Divide\")\n",
    "\n",
    "while True:\n",
    "    choice= input(\"Please pick either: 1, 2, 3, 4: \")\n",
    "    if choice == \"1\":\n",
    "        add()\n",
    "    elif choice == \"2\":\n",
    "        minus()\n",
    "    elif choice == \"3\":\n",
    "        multi()\n",
    "    elif choice == \"4\":\n",
    "        div()\n",
    "    next_calculation = input(\"Let's do next calculation? (yes/no): \")\n",
    "    if next_calculation == \"no\":\n",
    "            break\n",
    "    else:\n",
    "        print(\"Invalid Input\")\n",
    "    \n",
    "\n",
    "    \n",
    "    \n",
    "    \n",
    "\n",
    "\n",
    "\n",
    "\n",
    "\n",
    "\n",
    "\n"
   ]
  },
  {
   "cell_type": "code",
   "execution_count": null,
   "id": "ebd8cd7e",
   "metadata": {},
   "outputs": [],
   "source": []
  },
  {
   "cell_type": "code",
   "execution_count": null,
   "id": "13f3457b",
   "metadata": {},
   "outputs": [],
   "source": []
  },
  {
   "cell_type": "code",
   "execution_count": null,
   "id": "c8c3d615",
   "metadata": {},
   "outputs": [],
   "source": []
  }
 ],
 "metadata": {
  "interpreter": {
   "hash": "c3c4da7582fe185b48aff020946ef466dd2edfe5b8d6d72d25de43b3be75df90"
  },
  "kernelspec": {
   "display_name": "Python 3.7.7 32-bit",
   "language": "python",
   "name": "python3"
  },
  "language_info": {
   "codemirror_mode": {
    "name": "ipython",
    "version": 3
   },
   "file_extension": ".py",
   "mimetype": "text/x-python",
   "name": "python",
   "nbconvert_exporter": "python",
   "pygments_lexer": "ipython3",
   "version": "3.7.7"
  }
 },
 "nbformat": 4,
 "nbformat_minor": 5
}
